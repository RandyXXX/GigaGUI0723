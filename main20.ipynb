{
 "cells": [
  {
   "cell_type": "code",
   "execution_count": 7,
   "id": "22513b55",
   "metadata": {
    "scrolled": true
   },
   "outputs": [
    {
     "data": {
      "application/vnd.jupyter.widget-view+json": {
       "model_id": "cdd4799ad7ef4b26a713c1b13b4827ea",
       "version_major": 2,
       "version_minor": 0
      },
      "text/plain": [
       "interactive(children=(IntSlider(value=5, description='x'), Output()), _dom_classes=('widget-interact',))"
      ]
     },
     "metadata": {},
     "output_type": "display_data"
    }
   ],
   "source": [
    "import ipywidgets as widgets\n",
    "@widgets.interact(x=(0,100))\n",
    "def f(x=5):\n",
    "    print(x*' @')"
   ]
  },
  {
   "cell_type": "code",
   "execution_count": null,
   "id": "12b74398",
   "metadata": {},
   "outputs": [],
   "source": []
  },
  {
   "cell_type": "code",
   "execution_count": 2,
   "id": "8968cc1e",
   "metadata": {},
   "outputs": [
    {
     "name": "stdout",
     "output_type": "stream",
     "text": [
      "5\n"
     ]
    }
   ],
   "source": [
    "f(5)"
   ]
  },
  {
   "cell_type": "code",
   "execution_count": 16,
   "id": "f46ccccc",
   "metadata": {
    "scrolled": true
   },
   "outputs": [
    {
     "data": {
      "application/vnd.jupyter.widget-view+json": {
       "model_id": "2bdfa171fa7b4bef825c417481677e1b",
       "version_major": 2,
       "version_minor": 0
      },
      "text/plain": [
       "interactive(children=(IntSlider(value=5, description='freq', max=20), Dropdown(description='color', index=3, o…"
      ]
     },
     "metadata": {},
     "output_type": "display_data"
    }
   ],
   "source": [
    "%matplotlib notebook\n",
    "import numpy as np\n",
    "from matplotlib import pyplot as plt\n",
    "@widgets.interact_manual(freq=(0,20),color=['cyan','red','yellow','green','black'])\n",
    "def plot(freq=5,color='green',lw=5,grid=True):\n",
    "    t=np.linspace(.1,1.0,1000)\n",
    "    fig,ax=plt.subplots(1,1,figsize=(8,6))\n",
    "    ax.plot(t,np.cos(2*np.pi*freq*t)+np.log(freq*t),lw=lw,color=color)\n",
    "    ax.grid(grid)\n",
    "#plot(9,'red',5,False)\n",
    "#plot()"
   ]
  },
  {
   "cell_type": "code",
   "execution_count": 17,
   "id": "568cdf9c",
   "metadata": {
    "scrolled": false
   },
   "outputs": [
    {
     "data": {
      "application/vnd.jupyter.widget-view+json": {
       "model_id": "61d062ebbf384c8cb05278af20b55f03",
       "version_major": 2,
       "version_minor": 0
      },
      "text/plain": [
       "FloatSlider(value=3.8, max=10.0, min=1.0)"
      ]
     },
     "metadata": {},
     "output_type": "display_data"
    }
   ],
   "source": [
    "freq_slider = widgets.FloatSlider(value=3.8, min=1, max=10, step=0.1, descriptiopn='Volume:', readout_format='.2f')\n",
    "freq_slider"
   ]
  },
  {
   "cell_type": "code",
   "execution_count": 18,
   "id": "7e6b9385",
   "metadata": {},
   "outputs": [
    {
     "data": {
      "application/vnd.jupyter.widget-view+json": {
       "model_id": "937e1ee8dc214cb28ae3b7c0aef5af70",
       "version_major": 2,
       "version_minor": 0
      },
      "text/plain": [
       "FloatRangeSlider(value=(-6.0, 6.0), description='xlimit:', max=10.0, min=-10.0, readout_format='.1f')"
      ]
     },
     "metadata": {},
     "output_type": "display_data"
    }
   ],
   "source": [
    "range_slider = widgets.FloatRangeSlider(value=[-6,6], min=-10, max=10, step=.1, description='xlimit:', readout_format='.1f')\n",
    "range_slider"
   ]
  },
  {
   "cell_type": "code",
   "execution_count": 22,
   "id": "68d0e506",
   "metadata": {},
   "outputs": [
    {
     "data": {
      "application/vnd.jupyter.widget-view+json": {
       "model_id": "cbf8fb7446944e34b39209cc669e2ec4",
       "version_major": 2,
       "version_minor": 0
      },
      "text/plain": [
       "ToggleButton(value=True, button_style='info', description='Grid', icon='check')"
      ]
     },
     "metadata": {},
     "output_type": "display_data"
    }
   ],
   "source": [
    "grid_button=widgets.ToggleButton(icon='check',button_style='info',description='Grid',value=True)\n",
    "grid_button"
   ]
  },
  {
   "cell_type": "code",
   "execution_count": 24,
   "id": "3c56f620",
   "metadata": {},
   "outputs": [
    {
     "data": {
      "application/vnd.jupyter.widget-view+json": {
       "model_id": "ac64d96688dd4127a1f64f1eaa3e441f",
       "version_major": 2,
       "version_minor": 0
      },
      "text/plain": [
       "ToggleButtons(description='addon:', options=('sugger', 'honey', 'bubble'), value='sugger')"
      ]
     },
     "metadata": {},
     "output_type": "display_data"
    }
   ],
   "source": [
    "addon_buttons=widgets.ToggleButtons(options=['sugger','honey','bubble'],description='addon:')\n",
    "addon_buttons"
   ]
  },
  {
   "cell_type": "code",
   "execution_count": 26,
   "id": "6266a681",
   "metadata": {},
   "outputs": [
    {
     "data": {
      "application/vnd.jupyter.widget-view+json": {
       "model_id": "e4f16dae1c234c98992e25bde09bf1d4",
       "version_major": 2,
       "version_minor": 0
      },
      "text/plain": [
       "Dropdown(description='addon:', options=('sugar', 'honey', 'bubble'), value='sugar')"
      ]
     },
     "metadata": {},
     "output_type": "display_data"
    }
   ],
   "source": [
    "dropdown1=widgets.Dropdown(options=['sugar','honey','bubble'],description='addon:',disabled=False)\n",
    "dropdown1"
   ]
  },
  {
   "cell_type": "code",
   "execution_count": 29,
   "id": "2a2fbe88",
   "metadata": {},
   "outputs": [
    {
     "data": {
      "application/vnd.jupyter.widget-view+json": {
       "model_id": "02716c1532994b81a97f8af44166e8ef",
       "version_major": 2,
       "version_minor": 0
      },
      "text/plain": [
       "Dropdown(description='addon2:', index=1, options=(('sugar', 1), ('honey', 2), ('bubble', 3)), value=2)"
      ]
     },
     "metadata": {},
     "output_type": "display_data"
    }
   ],
   "source": [
    "dropdown2=widgets.Dropdown(options=[('sugar',1),('honey',2),('bubble',3)],description='addon2:',value=2)\n",
    "dropdown2"
   ]
  },
  {
   "cell_type": "code",
   "execution_count": 30,
   "id": "bebe69ba",
   "metadata": {},
   "outputs": [
    {
     "data": {
      "application/vnd.jupyter.widget-view+json": {
       "model_id": "68f2283d9d6f4f018cc6feedd4ad6602",
       "version_major": 2,
       "version_minor": 0
      },
      "text/plain": [
       "Text(value='default', description='title:')"
      ]
     },
     "metadata": {},
     "output_type": "display_data"
    }
   ],
   "source": [
    "title_textbox=widgets.Text(value='default',description='title:')\n",
    "title_textbox"
   ]
  },
  {
   "cell_type": "code",
   "execution_count": 32,
   "id": "a72b6dbe",
   "metadata": {},
   "outputs": [
    {
     "data": {
      "application/vnd.jupyter.widget-view+json": {
       "model_id": "3062053023644c7b8c8e85fc3b5ac378",
       "version_major": 2,
       "version_minor": 0
      },
      "text/plain": [
       "ColorPicker(value='#FFFFFF', concise=True, description='Main Color')"
      ]
     },
     "metadata": {},
     "output_type": "display_data"
    }
   ],
   "source": [
    "color_picker=widgets.ColorPicker(concise=True,description='Main Color',value='#FFFFFF')\n",
    "color_picker"
   ]
  },
  {
   "cell_type": "code",
   "execution_count": null,
   "id": "2493c99d",
   "metadata": {},
   "outputs": [],
   "source": []
  }
 ],
 "metadata": {
  "kernelspec": {
   "display_name": "Python 3 (ipykernel)",
   "language": "python",
   "name": "python3"
  },
  "language_info": {
   "codemirror_mode": {
    "name": "ipython",
    "version": 3
   },
   "file_extension": ".py",
   "mimetype": "text/x-python",
   "name": "python",
   "nbconvert_exporter": "python",
   "pygments_lexer": "ipython3",
   "version": "3.7.9"
  }
 },
 "nbformat": 4,
 "nbformat_minor": 5
}
